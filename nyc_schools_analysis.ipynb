{
 "cells": [
  {
   "cell_type": "markdown",
   "metadata": {},
   "source": [
    "# New York Public Schools: Creating a Ranking System and Determining Correlations Between Demographics and SAT Scores"
   ]
  },
  {
   "cell_type": "markdown",
   "metadata": {},
   "source": [
    "New York City has published data about its high schools, demographic information about students, and average SAT scores by school. New York City is a very diverse city with a large immigrant population, so the demographics for different schools vary a lot. We can explore this data to discover the correlations between demographics and SAT scores, as well as use this information to create a ranking system for the best schools in New York City. The data for this project has been sourced from several different websites, linked at the bottom of the notebook.\n",
    "\n",
    "There are two different datasets that will be used: datasets that are released by NYC Open Data and contain information about school demographics, AP scores, class sizes, graduation outcomes, and attendance. We will combine these into one dataframe to analyze. \n",
    "\n",
    "There is a second set of data that will be analyzed separately, which is a school survey conducted on parents, teachers, and students at each school. Questions were based around topics such as safety and respect, communication, engagement, and academic expectations. "
   ]
  },
  {
   "cell_type": "markdown",
   "metadata": {},
   "source": [
    "## Read in Datasets and Clean Up\n",
    "\n",
    "### Read in School Information Data"
   ]
  },
  {
   "cell_type": "code",
   "execution_count": 1,
   "metadata": {
    "collapsed": false
   },
   "outputs": [],
   "source": [
    "import pandas as pd\n",
    "import numpy\n",
    "import re\n",
    "%matplotlib inline\n",
    "\n",
    "data_files = [\n",
    "    \"ap_2010.csv\",\n",
    "    \"class_size.csv\",\n",
    "    \"demographics.csv\",\n",
    "    \"graduation.csv\",\n",
    "    \"hs_directory.csv\",\n",
    "    \"sat_results.csv\"\n",
    "]\n",
    "\n",
    "data = {}\n",
    "\n",
    "for f in data_files:\n",
    "    d = pd.read_csv(\"schools/{0}\".format(f))\n",
    "    data[f.replace(\".csv\", \"\")] = d"
   ]
  },
  {
   "cell_type": "markdown",
   "metadata": {},
   "source": [
    "### Read in the surveys"
   ]
  },
  {
   "cell_type": "code",
   "execution_count": 2,
   "metadata": {
    "collapsed": true
   },
   "outputs": [],
   "source": [
    "all_survey = pd.read_csv(\"schools/survey_all.txt\", delimiter=\"\\t\", encoding='windows-1252')\n",
    "d75_survey = pd.read_csv(\"schools/survey_d75.txt\", delimiter=\"\\t\", encoding='windows-1252')\n",
    "survey = pd.concat([all_survey, d75_survey], axis=0)\n",
    "\n",
    "survey[\"DBN\"] = survey[\"dbn\"]\n",
    "\n",
    "survey_fields = [\n",
    "    \"DBN\", \n",
    "    \"rr_s\", \n",
    "    \"rr_t\", \n",
    "    \"rr_p\", \n",
    "    \"N_s\", \n",
    "    \"N_t\", \n",
    "    \"N_p\", \n",
    "    \"saf_p_11\", \n",
    "    \"com_p_11\", \n",
    "    \"eng_p_11\", \n",
    "    \"aca_p_11\", \n",
    "    \"saf_t_11\", \n",
    "    \"com_t_11\", \n",
    "    \"eng_t_11\", \n",
    "    \"aca_t_11\", \n",
    "    \"saf_s_11\", \n",
    "    \"com_s_11\", \n",
    "    \"eng_s_11\", \n",
    "    \"aca_s_11\", \n",
    "    \"saf_tot_11\", \n",
    "    \"com_tot_11\", \n",
    "    \"eng_tot_11\", \n",
    "    \"aca_tot_11\",\n",
    "]\n",
    "survey = survey.loc[:,survey_fields]\n",
    "data[\"survey\"] = survey"
   ]
  },
  {
   "cell_type": "markdown",
   "metadata": {},
   "source": [
    "### Add DBN columns\n",
    "\n",
    "DBN stands for \"District Burough Number\", otherwise known as the school identification code, and is unique for each school. This is how we will combine datasets."
   ]
  },
  {
   "cell_type": "code",
   "execution_count": 3,
   "metadata": {
    "collapsed": true
   },
   "outputs": [],
   "source": [
    "data[\"hs_directory\"][\"DBN\"] = data[\"hs_directory\"][\"dbn\"]\n",
    "\n",
    "def pad_csd(num):\n",
    "    string_representation = str(num)\n",
    "    if len(string_representation) > 1:\n",
    "        return string_representation\n",
    "    else:\n",
    "        return \"0\" + string_representation\n",
    "    \n",
    "data[\"class_size\"][\"padded_csd\"] = data[\"class_size\"][\"CSD\"].apply(pad_csd)\n",
    "data[\"class_size\"][\"DBN\"] = data[\"class_size\"][\"padded_csd\"] + data[\"class_size\"][\"SCHOOL CODE\"]"
   ]
  },
  {
   "cell_type": "markdown",
   "metadata": {},
   "source": [
    "### Convert columns to numeric"
   ]
  },
  {
   "cell_type": "code",
   "execution_count": 4,
   "metadata": {
    "collapsed": true
   },
   "outputs": [],
   "source": [
    "cols = ['SAT Math Avg. Score', 'SAT Critical Reading Avg. Score', 'SAT Writing Avg. Score']\n",
    "for c in cols:\n",
    "    data[\"sat_results\"][c] = pd.to_numeric(data[\"sat_results\"][c], errors=\"coerce\")\n",
    "\n",
    "data['sat_results']['sat_score'] = data['sat_results'][cols[0]] + data['sat_results'][cols[1]] + data['sat_results'][cols[2]]\n",
    "\n",
    "def find_lat(loc):\n",
    "    coords = re.findall(\"\\(.+, .+\\)\", loc)\n",
    "    lat = coords[0].split(\",\")[0].replace(\"(\", \"\")\n",
    "    return lat\n",
    "\n",
    "def find_lon(loc):\n",
    "    coords = re.findall(\"\\(.+, .+\\)\", loc)\n",
    "    lon = coords[0].split(\",\")[1].replace(\")\", \"\").strip()\n",
    "    return lon\n",
    "\n",
    "data[\"hs_directory\"][\"lat\"] = data[\"hs_directory\"][\"Location 1\"].apply(find_lat)\n",
    "data[\"hs_directory\"][\"lon\"] = data[\"hs_directory\"][\"Location 1\"].apply(find_lon)\n",
    "\n",
    "data[\"hs_directory\"][\"lat\"] = pd.to_numeric(data[\"hs_directory\"][\"lat\"], errors=\"coerce\")\n",
    "data[\"hs_directory\"][\"lon\"] = pd.to_numeric(data[\"hs_directory\"][\"lon\"], errors=\"coerce\")"
   ]
  },
  {
   "cell_type": "markdown",
   "metadata": {},
   "source": [
    "### Condense datasets"
   ]
  },
  {
   "cell_type": "code",
   "execution_count": 5,
   "metadata": {
    "collapsed": true
   },
   "outputs": [],
   "source": [
    "class_size = data[\"class_size\"]\n",
    "class_size = class_size[class_size[\"GRADE \"] == \"09-12\"]\n",
    "class_size = class_size[class_size[\"PROGRAM TYPE\"] == \"GEN ED\"]\n",
    "\n",
    "class_size = class_size.groupby(\"DBN\").agg(numpy.mean)\n",
    "class_size.reset_index(inplace=True)\n",
    "data[\"class_size\"] = class_size\n",
    "\n",
    "data[\"demographics\"] = data[\"demographics\"][data[\"demographics\"][\"schoolyear\"] == 20112012]\n",
    "\n",
    "data[\"graduation\"] = data[\"graduation\"][data[\"graduation\"][\"Cohort\"] == \"2006\"]\n",
    "data[\"graduation\"] = data[\"graduation\"][data[\"graduation\"][\"Demographic\"] == \"Total Cohort\"]"
   ]
  },
  {
   "cell_type": "markdown",
   "metadata": {},
   "source": [
    "### Convert AP scores to numeric"
   ]
  },
  {
   "cell_type": "code",
   "execution_count": 6,
   "metadata": {
    "collapsed": false
   },
   "outputs": [
    {
     "data": {
      "text/plain": [
       "0        10\n",
       "1         s\n",
       "2        24\n",
       "3       191\n",
       "4         s\n",
       "5         s\n",
       "6        10\n",
       "7         s\n",
       "8        15\n",
       "9         s\n",
       "10      152\n",
       "11       15\n",
       "12       88\n",
       "13       97\n",
       "14        s\n",
       "15        s\n",
       "16      169\n",
       "17       67\n",
       "18       75\n",
       "19       32\n",
       "20        s\n",
       "21       29\n",
       "22        s\n",
       "23        6\n",
       "24       21\n",
       "25     2648\n",
       "26       78\n",
       "27       21\n",
       "28       76\n",
       "29       29\n",
       "       ... \n",
       "228     100\n",
       "229      57\n",
       "230     275\n",
       "231       s\n",
       "232       s\n",
       "233       s\n",
       "234       s\n",
       "235       s\n",
       "236       s\n",
       "237       s\n",
       "238       8\n",
       "239       s\n",
       "240      97\n",
       "241     169\n",
       "242      38\n",
       "243      13\n",
       "244     140\n",
       "245     119\n",
       "246      66\n",
       "247      62\n",
       "248      76\n",
       "249      90\n",
       "250     206\n",
       "251     175\n",
       "252       s\n",
       "253     809\n",
       "254      13\n",
       "255      10\n",
       "256       s\n",
       "257      18\n",
       "Name: Number of Exams with scores 3 4 or 5, Length: 258, dtype: object"
      ]
     },
     "execution_count": 6,
     "metadata": {},
     "output_type": "execute_result"
    }
   ],
   "source": [
    "data['ap_2010']['Number of Exams with scores 3 4 or 5']"
   ]
  },
  {
   "cell_type": "code",
   "execution_count": 7,
   "metadata": {
    "collapsed": true
   },
   "outputs": [],
   "source": [
    "cols = ['AP Test Takers ', 'Total Exams Taken', 'Number of Exams with scores 3 4 or 5']\n",
    "\n",
    "for col in cols:\n",
    "    data[\"ap_2010\"][col] = pd.to_numeric(data[\"ap_2010\"][col], errors=\"coerce\")"
   ]
  },
  {
   "cell_type": "markdown",
   "metadata": {},
   "source": [
    "### Combine the datasets"
   ]
  },
  {
   "cell_type": "code",
   "execution_count": 8,
   "metadata": {
    "collapsed": true
   },
   "outputs": [],
   "source": [
    "combined = data[\"sat_results\"]\n",
    "\n",
    "combined = combined.merge(data[\"ap_2010\"], on=\"DBN\", how=\"left\")\n",
    "combined = combined.merge(data[\"graduation\"], on=\"DBN\", how=\"left\")\n",
    "\n",
    "to_merge = [\"class_size\", \"demographics\", \"survey\", \"hs_directory\"]\n",
    "\n",
    "for m in to_merge:\n",
    "    combined = combined.merge(data[m], on=\"DBN\", how=\"inner\")\n",
    "\n",
    "combined = combined.fillna(combined.mean())\n",
    "combined = combined.fillna(0)"
   ]
  },
  {
   "cell_type": "markdown",
   "metadata": {},
   "source": [
    "### Add a school district column for mapping"
   ]
  },
  {
   "cell_type": "code",
   "execution_count": 9,
   "metadata": {
    "collapsed": true
   },
   "outputs": [],
   "source": [
    "def get_first_two_chars(dbn):\n",
    "    return dbn[0:2]\n",
    "\n",
    "combined[\"school_dist\"] = combined[\"DBN\"].apply(get_first_two_chars)"
   ]
  },
  {
   "cell_type": "markdown",
   "metadata": {},
   "source": [
    "## Find correlations\n",
    "\n",
    "We can begin the analysis by looking at the correlations between SAT scores and other columns for the school information dataset. "
   ]
  },
  {
   "cell_type": "code",
   "execution_count": 10,
   "metadata": {
    "collapsed": false
   },
   "outputs": [
    {
     "name": "stdout",
     "output_type": "stream",
     "text": [
      "sat_score                               1.000000\n",
      "SAT Writing Avg. Score                  0.987771\n",
      "SAT Critical Reading Avg. Score         0.986820\n",
      "SAT Math Avg. Score                     0.972643\n",
      "white_per                               0.620718\n",
      "asian_per                               0.570730\n",
      "AP Test Takers                          0.523140\n",
      "Total Exams Taken                       0.514333\n",
      "asian_num                               0.475445\n",
      "Number of Exams with scores 3 4 or 5    0.463245\n",
      "white_num                               0.449559\n",
      "N_s                                     0.423463\n",
      "N_p                                     0.421530\n",
      "total_students                          0.407827\n",
      "NUMBER OF STUDENTS / SEATS FILLED       0.394626\n",
      "female_num                              0.388631\n",
      "AVERAGE CLASS SIZE                      0.381014\n",
      "total_enrollment                        0.367857\n",
      "NUMBER OF SECTIONS                      0.362673\n",
      "aca_s_11                                0.339435\n",
      "saf_s_11                                0.337639\n",
      "male_num                                0.325520\n",
      "Total Cohort                            0.325144\n",
      "saf_tot_11                              0.318753\n",
      "SIZE OF LARGEST CLASS                   0.314434\n",
      "saf_t_11                                0.313810\n",
      "N_t                                     0.291463\n",
      "SIZE OF SMALLEST CLASS                  0.249949\n",
      "rr_s                                    0.232199\n",
      "eng_s_11                                0.213822\n",
      "                                          ...   \n",
      "com_t_11                                0.082419\n",
      "com_tot_11                              0.077310\n",
      "rr_p                                    0.047925\n",
      "CSD                                     0.042948\n",
      "eng_t_11                                0.036906\n",
      "aca_p_11                                0.035155\n",
      "sped_num                                0.034933\n",
      "black_num                               0.027979\n",
      "hispanic_num                            0.025744\n",
      "eng_p_11                                0.020254\n",
      "rr_t                                   -0.023386\n",
      "zip                                    -0.063977\n",
      "male_per                               -0.112062\n",
      "com_p_11                               -0.115073\n",
      "lat                                    -0.121029\n",
      "lon                                    -0.132222\n",
      "ell_num                                -0.153778\n",
      "black_per                              -0.284139\n",
      "hispanic_per                           -0.396985\n",
      "ell_percent                            -0.398750\n",
      "sped_percent                           -0.448170\n",
      "frl_percent                            -0.722225\n",
      "SCHOOLWIDE PUPIL-TEACHER RATIO               NaN\n",
      "schoolyear                                   NaN\n",
      "fl_percent                                   NaN\n",
      "grade_span_max                               NaN\n",
      "expgrade_span_max                            NaN\n",
      "priority08                                   NaN\n",
      "priority09                                   NaN\n",
      "priority10                                   NaN\n",
      "Name: sat_score, Length: 67, dtype: float64\n"
     ]
    }
   ],
   "source": [
    "correlations = combined.corr()\n",
    "correlations = correlations[\"sat_score\"]\n",
    "# print(type(correlations))\n",
    "print(correlations.sort_values(ascending = False))"
   ]
  },
  {
   "cell_type": "markdown",
   "metadata": {},
   "source": [
    "There are quite a few interesting observations right off the bat. First, we can see that there is a relatively strong positive correlation between SAT scores and white population percentages, asian population percentages, number of SAT test takers, number of AP test takers, and number of passing AP scores, where a passing AP score is a 3, 4, or 5. We also see relatively strong negative correlations for the number of english language learning students, black and hispanic population percentages, special education percentage, and free and reduced lunch percentages. There are also slightly negative correlations for zip code and latitude and longitutude, which will be interesting to explore. "
   ]
  },
  {
   "cell_type": "markdown",
   "metadata": {},
   "source": [
    "## Plotting survey correlations"
   ]
  },
  {
   "cell_type": "code",
   "execution_count": 11,
   "metadata": {
    "collapsed": false
   },
   "outputs": [],
   "source": [
    "# Remove DBN since it's a unique identifier, not a useful numerical value for correlation.\n",
    "survey_fields.remove(\"DBN\")"
   ]
  },
  {
   "cell_type": "code",
   "execution_count": 12,
   "metadata": {
    "collapsed": false
   },
   "outputs": [
    {
     "data": {
      "image/png": "[encoded data removed]",
      "text/plain": [
       "<matplotlib.figure.Figure at 0x7f913547dac8>"
      ]
     },
     "metadata": {},
     "output_type": "display_data"
    }
   ],
   "source": [
    "import matplotlib.pyplot as plt\n",
    "fig = plt.figure()\n",
    "ax = fig.add_axes([0,0,1,1])\n",
    "combined.corr()['sat_score'][survey_fields].plot.bar()\n",
    "plt.show()"
   ]
  },
  {
   "cell_type": "markdown",
   "metadata": {},
   "source": [
    "N_s = number of student respondents \n",
    "N_t = number of teacher respondents \n",
    "N_p = number of parent respondents \n",
    "saf_t_11 = Safety and Respect score based on teacher responses\n",
    "saf_s_11 = Safety and Respect score based on student responses\n",
    "aca_s_11 = Academic expectations score based on student responses\n",
    "saf_tot_11 = Safety and Respect total score\n",
    "\n",
    "These 7 columns seem to have the highest positive correlations with SAT score. The interesting columns are safety and respect scores having a positive correlation with SAT scores, which could suggest a more encouraging and safe learning environment for students leads to better performance. Also, student reported academic expectations has a relatively strong positive correlation with SAT score, meaning that the higher expectations a student perceives they have, the better they performed on the SAT. The only negative correlations are the communication score parent response and the teacher response rate. This suggests that perhaps less engaged educators leads to poorer performance."
   ]
  },
  {
   "cell_type": "code",
   "execution_count": 13,
   "metadata": {
    "collapsed": false
   },
   "outputs": [
    {
     "data": {
      "image/png": "[encoded data removed]",
      "text/plain": [
       "<matplotlib.figure.Figure at 0x7f913547a278>"
      ]
     },
     "metadata": {},
     "output_type": "display_data"
    }
   ],
   "source": [
    "plt.scatter(combined['saf_s_11'], combined['sat_score'])\n",
    "plt.show()"
   ]
  },
  {
   "cell_type": "markdown",
   "metadata": {},
   "source": [
    "From the scatterplot, we can see the positive correlation between safety score and the SAT score. We also observe that there is a large cluster of low to moderate safety scores with lower SAT scores. We can investigate this further by grouping by district and computing the average safety scores for each district."
   ]
  },
  {
   "cell_type": "code",
   "execution_count": 14,
   "metadata": {
    "collapsed": false
   },
   "outputs": [],
   "source": [
    "district_means = combined.groupby('DBN').agg(numpy.mean)\n",
    "district_means = district_means['saf_s_11']\n",
    "combined['district_means'] = district_means"
   ]
  },
  {
   "cell_type": "code",
   "execution_count": 15,
   "metadata": {
    "collapsed": false
   },
   "outputs": [
    {
     "data": {
      "image/png": "[encoded data removed]",
      "text/plain": [
       "<matplotlib.figure.Figure at 0x7f91354fcef0>"
      ]
     },
     "metadata": {},
     "output_type": "display_data"
    }
   ],
   "source": [
    "from mpl_toolkits.basemap import Basemap\n",
    "\n",
    "longitudes = combined[\"lon\"].tolist()\n",
    "latitudes = combined[\"lat\"].tolist()\n",
    "\n",
    "plt.figure(figsize=(14,8))\n",
    "\n",
    "m = Basemap(\n",
    "    projection='merc', \n",
    "    llcrnrlat=40.496044, \n",
    "    urcrnrlat=40.915256, \n",
    "    llcrnrlon=-74.255735, \n",
    "    urcrnrlon=-73.700272,\n",
    "    resolution='i'\n",
    ")\n",
    "\n",
    "m.drawmapboundary(fill_color='#85A6D9')\n",
    "m.drawcoastlines(color='#6D5F47', linewidth=.4)\n",
    "m.drawrivers(color='#6D5F47', linewidth=.4)\n",
    "\n",
    "m.scatter(longitudes,latitudes,s=50,zorder=2,latlon=True,c=combined[\"saf_s_11\"],cmap=\"summer\")\n",
    "plt.title(\"District Safety Perception\")\n",
    "plt.colorbar()\n",
    "plt.show()"
   ]
  },
  {
   "cell_type": "markdown",
   "metadata": {},
   "source": [
    "Looking at a map of the NYC boroughs, we can see that there is some difference in safety scores and borough. For instance, Staten Island appears to have overall good safety scores. Manhattan also looks like it has overall above average safety scores. The Bronx appears to have slightly worse safety scores. This seems to be in line with [crime statistics](https://maps.nyc.gov/crime/) for the city, with Manhattan being somewhat of an exception, but we can see that there are lower crime areas in Manhattan as well. From the crime statistics map, we can see that lower crime rate areas, in general, have higher safety scores from the survey.\n",
    "\n",
    "![title](https://wp-tid.zillowstatic.com/streeteasy/2/NYCcrimemap-8351ee.png)"
   ]
  },
  {
   "cell_type": "code",
   "execution_count": 16,
   "metadata": {
    "collapsed": false
   },
   "outputs": [
    {
     "data": {
      "image/png": "[encoded data removed]",
      "text/plain": [
       "<matplotlib.figure.Figure at 0x7f91354b4a58>"
      ]
     },
     "metadata": {},
     "output_type": "display_data"
    }
   ],
   "source": [
    "race_per = ['white_per', 'asian_per', 'black_per', 'hispanic_per']\n",
    "fig = plt.figure()\n",
    "ax = fig.add_axes([0,0,1,1])\n",
    "combined.corr()['sat_score'][race_per].plot.bar()\n",
    "plt.show()"
   ]
  },
  {
   "cell_type": "markdown",
   "metadata": {},
   "source": [
    "There appear to be strong positive correlations for white and asian percentages with SAT scores, but somewhat strong negative correlations for black and hispanic percentages. We will continue analysis to determine if there is more data to determine why. "
   ]
  },
  {
   "cell_type": "code",
   "execution_count": 17,
   "metadata": {
    "collapsed": false
   },
   "outputs": [
    {
     "data": {
      "image/png": "[encoded data removed]",
      "text/plain": [
       "<matplotlib.figure.Figure at 0x7f91355055c0>"
      ]
     },
     "metadata": {},
     "output_type": "display_data"
    }
   ],
   "source": [
    "plt.scatter(combined['hispanic_per'], combined['sat_score'])\n",
    "plt.show()"
   ]
  },
  {
   "cell_type": "markdown",
   "metadata": {},
   "source": [
    "We can see that all the schools that had an average SAT score above 1600 had small hispanic populations, and the schools with 100% hispanic populations performed around or under SAT scores of 1000. \n",
    "\n",
    "We will continue analysis to see why schools with high hispanic populations perform poorly on the SAT, and explore the demographic composition of schools with low hispanic populations and low SAT scores.\n",
    "\n",
    "Here are the schools with hispanic population percentages greater than 95%. "
   ]
  },
  {
   "cell_type": "code",
   "execution_count": 18,
   "metadata": {
    "collapsed": false
   },
   "outputs": [
    {
     "name": "stdout",
     "output_type": "stream",
     "text": [
      "44             MANHATTAN BRIDGES HIGH SCHOOL\n",
      "82                                         0\n",
      "89     GREGORIO LUPERON HIGH SCHOOL FOR SCIE\n",
      "125                                        0\n",
      "141    INTERNATIONAL SCHOOL FOR LIBERAL ARTS\n",
      "176                                        0\n",
      "253                MULTICULTURAL HIGH SCHOOL\n",
      "286    PAN AMERICAN INTERNATIONAL HIGH SCHOO\n",
      "Name: School Name, dtype: object\n"
     ]
    }
   ],
   "source": [
    "hispanic_95 = combined[combined['hispanic_per'] > 95]\n",
    "print(hispanic_95['School Name'])"
   ]
  },
  {
   "cell_type": "markdown",
   "metadata": {},
   "source": [
    "There are 5 school names that we can investigate. From some research on each of these schools, we can see that most of the students are English learners, meaning that English is not their first language. They are also all very small schools, with less than 1000 students attending each school. The chronically absent average was relatively high for each school, while still under the average from the city, it was pretty close to the average in each case. The sources for this information for each school is linked below. \n",
    "\n",
    "English Language Learners is actually a column in the dataset, which we should explore. \n",
    "\n",
    "\n",
    "[Manhattan Bridges High School](https://tools.nycenet.edu/snapshot/2019/02M542/HS/)\n",
    "\n",
    "[Gregorio Luperon High School for Science and Mathematics](https://tools.nycenet.edu/snapshot/2019/06M552/HS/)\n",
    "\n",
    "[International School for Liberal Arts](https://tools.nycenet.edu/snapshot/2019/10X342/HS/)\n",
    "\n",
    "[Multicultural High School](https://tools.nycenet.edu/snapshot/2019/19K583/HS/)\n",
    "\n",
    "[Pan American International High School](https://tools.nycenet.edu/snapshot/2019/24Q296/HS/)"
   ]
  },
  {
   "cell_type": "code",
   "execution_count": 19,
   "metadata": {
    "collapsed": false
   },
   "outputs": [
    {
     "name": "stdout",
     "output_type": "stream",
     "text": [
      "37                    STUYVESANT HIGH SCHOOL\n",
      "151             BRONX HIGH SCHOOL OF SCIENCE\n",
      "187           BROOKLYN TECHNICAL HIGH SCHOOL\n",
      "327    QUEENS HIGH SCHOOL FOR THE SCIENCES A\n",
      "356      STATEN ISLAND TECHNICAL HIGH SCHOOL\n",
      "Name: School Name, dtype: object\n"
     ]
    }
   ],
   "source": [
    "hispanic_10 = combined[combined['hispanic_per'] < 10]\n",
    "hispanic_10_sat = hispanic_10[hispanic_10['sat_score'] > 1800]\n",
    "print(hispanic_10_sat['School Name'])"
   ]
  },
  {
   "cell_type": "markdown",
   "metadata": {},
   "source": [
    "From some research on these schools, we can see that each one has a high percentage of Asian students, a small hispanic or black population, and 0% of the students are English learners. We can also see that the attendance average is well above the city average in each case, and that the chronically absent percentage is well below the city average. All but one of these schools has a larger total population, with each school having more than 1300 students, except Queens High School for the Sciences at York College, which has a smaller population of around 400 students. Much of this data is included in the dataset, and should be explored and visualized.\n",
    "\n",
    "\n",
    "[Stuyvesant High School](https://tools.nycenet.edu/snapshot/2019/02M475/HS/)\n",
    "\n",
    "[The Bronx High School of Science](https://tools.nycenet.edu/snapshot/2019/10X445/HS/)\n",
    "\n",
    "[Brooklyn Technical High School](https://tools.nycenet.edu/snapshot/2019/13K430/HS/)\n",
    "\n",
    "[Queens High School for the Sciences at York College](https://tools.nycenet.edu/snapshot/2019/28Q687/HS/)\n",
    "\n",
    "[Staten Island Technical High School](https://tools.nycenet.edu/snapshot/2019/31R605/HS/)"
   ]
  },
  {
   "cell_type": "code",
   "execution_count": 20,
   "metadata": {
    "collapsed": false
   },
   "outputs": [
    {
     "data": {
      "image/png": "[encoded data removed]",
      "text/plain": [
       "<matplotlib.figure.Figure at 0x7f9134f8da20>"
      ]
     },
     "metadata": {},
     "output_type": "display_data"
    }
   ],
   "source": [
    "gender = ['male_per', 'female_per']\n",
    "fig = plt.figure()\n",
    "ax = fig.add_axes([0,0,1,1])\n",
    "combined.corr()['sat_score'][gender].plot.bar()\n",
    "plt.show()"
   ]
  },
  {
   "cell_type": "markdown",
   "metadata": {},
   "source": [
    "These are somewhat interesting correlations. While neither is a very strong correlation, it is interesting that having a higher female percentage of students has a positive correlation with SAT scores, while a higher male percentage of students has a negative correlation. "
   ]
  },
  {
   "cell_type": "code",
   "execution_count": 21,
   "metadata": {
    "collapsed": false
   },
   "outputs": [
    {
     "data": {
      "image/png": "[encoded data removed]",
      "text/plain": [
       "<matplotlib.figure.Figure at 0x7f9134f51438>"
      ]
     },
     "metadata": {},
     "output_type": "display_data"
    }
   ],
   "source": [
    "plt.scatter(combined['female_per'], combined['sat_score'])\n",
    "plt.show()"
   ]
  },
  {
   "cell_type": "code",
   "execution_count": 22,
   "metadata": {
    "collapsed": false
   },
   "outputs": [
    {
     "data": {
      "image/png": "[encoded data removed]",
      "text/plain": [
       "<matplotlib.figure.Figure at 0x7f9134ce5c50>"
      ]
     },
     "metadata": {},
     "output_type": "display_data"
    }
   ],
   "source": [
    "plt.scatter(combined['male_per'], combined['sat_score'])\n",
    "plt.show()"
   ]
  },
  {
   "cell_type": "markdown",
   "metadata": {},
   "source": [
    "From the scatterplots, we can actually see that having a more even split of male and female students can lead to higher SAT scores. It appears as though having an all-boys school or an all-girls school doesn't lead to higher SAT scores. "
   ]
  },
  {
   "cell_type": "code",
   "execution_count": 23,
   "metadata": {
    "collapsed": false
   },
   "outputs": [
    {
     "name": "stdout",
     "output_type": "stream",
     "text": [
      "5            BARD HIGH SCHOOL EARLY COLLEGE\n",
      "26            ELEANOR ROOSEVELT HIGH SCHOOL\n",
      "60                       BEACON HIGH SCHOOL\n",
      "61     FIORELLO H. LAGUARDIA HIGH SCHOOL OF\n",
      "302             TOWNSEND HARRIS HIGH SCHOOL\n",
      "Name: School Name, dtype: object\n"
     ]
    }
   ],
   "source": [
    "female = combined[combined['female_per'] > 60]\n",
    "female_sat = female[female['sat_score'] > 1700]\n",
    "print(female_sat['School Name'])"
   ]
  },
  {
   "cell_type": "markdown",
   "metadata": {},
   "source": [
    "The above school names are schools that have a higher than 60% female population, and an average SAT score above 1700. Each of these schools have higher percentages of white and asian populations, but also have relatively higher percentages of black and hispanic populations as well. They are all described as being academically rigorous, and some begin teaching college courses during 11th grade. The schools all have excellent attendance averages, and chronically absent averages well below the city average. Some of the schools have more specialized programs, such as a theater and arts focused curriculum, or a focus on technology and math. "
   ]
  },
  {
   "cell_type": "code",
   "execution_count": 24,
   "metadata": {
    "collapsed": true
   },
   "outputs": [],
   "source": [
    "combined['ap_per'] = combined['AP Test Takers '] / combined['total_enrollment']"
   ]
  },
  {
   "cell_type": "code",
   "execution_count": 25,
   "metadata": {
    "collapsed": false
   },
   "outputs": [
    {
     "data": {
      "image/png": "[encoded data removed]",
      "text/plain": [
       "<matplotlib.figure.Figure at 0x7f9134c52128>"
      ]
     },
     "metadata": {},
     "output_type": "display_data"
    }
   ],
   "source": [
    "plt.scatter(combined['ap_per'], combined['sat_score'])\n",
    "plt.show()"
   ]
  },
  {
   "cell_type": "markdown",
   "metadata": {},
   "source": [
    "This scatterplot illustrates the percentage of AP test takers for each higher school versus their average SAT score. There is some correlation between higher percentage of students who take AP classes and higher SAT score, but there are also plenty of schools with high percentages of AP students and lower SAT schools. This will require more investigation, such as looking at the number of passing AP scores per school. \n",
    "\n",
    "Because we imputing average scores for some missing values when preparing the data, we should remove these rows for an accurate analysis of AP scores, because a lot of the missing values were in this column. "
   ]
  },
  {
   "cell_type": "code",
   "execution_count": 26,
   "metadata": {
    "collapsed": false
   },
   "outputs": [
    {
     "name": "stderr",
     "output_type": "stream",
     "text": [
      "/dataquest/system/env/python3/lib/python3.4/site-packages/ipykernel/__main__.py:3: SettingWithCopyWarning: \n",
      "A value is trying to be set on a copy of a slice from a DataFrame.\n",
      "Try using .loc[row_indexer,col_indexer] = value instead\n",
      "\n",
      "See the caveats in the documentation: http://pandas.pydata.org/pandas-docs/stable/indexing.html#indexing-view-versus-copy\n",
      "  app.launch_new_instance()\n"
     ]
    }
   ],
   "source": [
    "accurate_aps = combined[combined['Number of Exams with scores 3 4 or 5'] != 153.45]\n",
    "\n",
    "accurate_aps['Passing AP Percentage'] = accurate_aps['Number of Exams with scores 3 4 or 5'] / accurate_aps.iloc[:,9]"
   ]
  },
  {
   "cell_type": "code",
   "execution_count": 27,
   "metadata": {
    "collapsed": false
   },
   "outputs": [
    {
     "data": {
      "image/png": "[encoded data removed]",
      "text/plain": [
       "<matplotlib.figure.Figure at 0x7f9134c0c9e8>"
      ]
     },
     "metadata": {},
     "output_type": "display_data"
    }
   ],
   "source": [
    "plt.scatter(accurate_aps['Passing AP Percentage'], accurate_aps['sat_score'])\n",
    "plt.show()"
   ]
  },
  {
   "cell_type": "markdown",
   "metadata": {},
   "source": [
    "I first added a column to compute the percentage of passing AP tests of the total number of AP tests taken per school. Then comparing this percentage with SAT scores, there is a clear positive correlation between passing AP scores and higher SAT scores. "
   ]
  },
  {
   "cell_type": "markdown",
   "metadata": {},
   "source": [
    "## Assigning Scores to Schools\n",
    "\n",
    "Using some of the insights we have gained through exploring correlations in the data, we can create a system to assign scores to each school, based on different measures from the school and survey data to determine the highest performing schools. \n",
    "\n",
    "We can use the highest positive and negative correlation columns to SAT score to create a scoring system for each school. We can use: SAT score, AP test passing percentage (we can apply the average passing percentage to those rows missing values for this problem), female population percentage, safety scores, academic expectation scores, average class size, english language learners, and free and reduced lunch percentages to create a simple system to begin with. \n",
    "\n",
    "We can start by reducing our dataset to just these columns to simplify. "
   ]
  },
  {
   "cell_type": "code",
   "execution_count": 28,
   "metadata": {
    "collapsed": false
   },
   "outputs": [],
   "source": [
    "# find average for AP passing scores to impute into missing values\n",
    "avg_pass_ap = accurate_aps['Passing AP Percentage'].mean()"
   ]
  },
  {
   "cell_type": "code",
   "execution_count": 29,
   "metadata": {
    "collapsed": true
   },
   "outputs": [],
   "source": [
    "combined['Number of Exams with scores 3 4 or 5'] = combined['Number of Exams with scores 3 4 or 5'].replace(153.45, 0)\n",
    "combined['Passed AP'] = combined['Number of Exams with scores 3 4 or 5'] / combined.iloc[:,9]\n",
    "combined['Passed AP'] = combined['Passed AP'].replace(0.0, avg_pass_ap)"
   ]
  },
  {
   "cell_type": "code",
   "execution_count": 30,
   "metadata": {
    "collapsed": false
   },
   "outputs": [
    {
     "data": {
      "text/html": [
       "<div>\n",
       "<style scoped>\n",
       "    .dataframe tbody tr th:only-of-type {\n",
       "        vertical-align: middle;\n",
       "    }\n",
       "\n",
       "    .dataframe tbody tr th {\n",
       "        vertical-align: top;\n",
       "    }\n",
       "\n",
       "    .dataframe thead th {\n",
       "        text-align: right;\n",
       "    }\n",
       "</style>\n",
       "<table border=\"1\" class=\"dataframe\">\n",
       "  <thead>\n",
       "    <tr style=\"text-align: right;\">\n",
       "      <th></th>\n",
       "      <th>DBN</th>\n",
       "      <th>School Name</th>\n",
       "      <th>sat_score</th>\n",
       "      <th>female_per</th>\n",
       "      <th>AVERAGE CLASS SIZE</th>\n",
       "      <th>aca_s_11</th>\n",
       "      <th>saf_s_11</th>\n",
       "      <th>ell_percent</th>\n",
       "      <th>frl_percent</th>\n",
       "      <th>Passed AP</th>\n",
       "    </tr>\n",
       "  </thead>\n",
       "  <tbody>\n",
       "    <tr>\n",
       "      <th>0</th>\n",
       "      <td>01M292</td>\n",
       "      <td>HENRY STREET SCHOOL FOR INTERNATIONAL</td>\n",
       "      <td>1122.0</td>\n",
       "      <td>38.6</td>\n",
       "      <td>22.564286</td>\n",
       "      <td>6.700000</td>\n",
       "      <td>6.000000</td>\n",
       "      <td>22.3</td>\n",
       "      <td>88.6</td>\n",
       "      <td>0.418363</td>\n",
       "    </tr>\n",
       "    <tr>\n",
       "      <th>1</th>\n",
       "      <td>01M448</td>\n",
       "      <td>UNIVERSITY NEIGHBORHOOD HIGH SCHOOL</td>\n",
       "      <td>1172.0</td>\n",
       "      <td>42.6</td>\n",
       "      <td>22.231250</td>\n",
       "      <td>7.000000</td>\n",
       "      <td>6.000000</td>\n",
       "      <td>21.1</td>\n",
       "      <td>71.8</td>\n",
       "      <td>0.204082</td>\n",
       "    </tr>\n",
       "    <tr>\n",
       "      <th>2</th>\n",
       "      <td>01M450</td>\n",
       "      <td>EAST SIDE COMMUNITY SCHOOL</td>\n",
       "      <td>1149.0</td>\n",
       "      <td>45.3</td>\n",
       "      <td>21.200000</td>\n",
       "      <td>7.381389</td>\n",
       "      <td>6.611667</td>\n",
       "      <td>5.0</td>\n",
       "      <td>71.8</td>\n",
       "      <td>0.418363</td>\n",
       "    </tr>\n",
       "    <tr>\n",
       "      <th>3</th>\n",
       "      <td>01M509</td>\n",
       "      <td>MARTA VALLE HIGH SCHOOL</td>\n",
       "      <td>1207.0</td>\n",
       "      <td>53.7</td>\n",
       "      <td>23.571429</td>\n",
       "      <td>7.000000</td>\n",
       "      <td>6.400000</td>\n",
       "      <td>11.2</td>\n",
       "      <td>80.7</td>\n",
       "      <td>0.418363</td>\n",
       "    </tr>\n",
       "    <tr>\n",
       "      <th>4</th>\n",
       "      <td>01M539</td>\n",
       "      <td>NEW EXPLORATIONS INTO SCIENCE  TECHNO</td>\n",
       "      <td>1621.0</td>\n",
       "      <td>50.8</td>\n",
       "      <td>25.510526</td>\n",
       "      <td>7.700000</td>\n",
       "      <td>7.300000</td>\n",
       "      <td>0.2</td>\n",
       "      <td>23.0</td>\n",
       "      <td>0.506631</td>\n",
       "    </tr>\n",
       "  </tbody>\n",
       "</table>\n",
       "</div>"
      ],
      "text/plain": [
       "      DBN                            School Name  sat_score  female_per  \\\n",
       "0  01M292  HENRY STREET SCHOOL FOR INTERNATIONAL     1122.0        38.6   \n",
       "1  01M448    UNIVERSITY NEIGHBORHOOD HIGH SCHOOL     1172.0        42.6   \n",
       "2  01M450             EAST SIDE COMMUNITY SCHOOL     1149.0        45.3   \n",
       "3  01M509                MARTA VALLE HIGH SCHOOL     1207.0        53.7   \n",
       "4  01M539  NEW EXPLORATIONS INTO SCIENCE  TECHNO     1621.0        50.8   \n",
       "\n",
       "   AVERAGE CLASS SIZE  aca_s_11  saf_s_11  ell_percent  frl_percent  Passed AP  \n",
       "0           22.564286  6.700000  6.000000         22.3         88.6   0.418363  \n",
       "1           22.231250  7.000000  6.000000         21.1         71.8   0.204082  \n",
       "2           21.200000  7.381389  6.611667          5.0         71.8   0.418363  \n",
       "3           23.571429  7.000000  6.400000         11.2         80.7   0.418363  \n",
       "4           25.510526  7.700000  7.300000          0.2         23.0   0.506631  "
      ]
     },
     "execution_count": 30,
     "metadata": {},
     "output_type": "execute_result"
    }
   ],
   "source": [
    "reduced = combined[['DBN', 'School Name', 'sat_score', 'female_per', 'AVERAGE CLASS SIZE', 'aca_s_11', 'saf_s_11', 'ell_percent', 'frl_percent', 'Passed AP']]\n",
    "reduced.head()"
   ]
  },
  {
   "cell_type": "markdown",
   "metadata": {},
   "source": [
    "We can now take the averages for each column to use some of that information for scoring. "
   ]
  },
  {
   "cell_type": "code",
   "execution_count": 31,
   "metadata": {
    "collapsed": false
   },
   "outputs": [
    {
     "data": {
      "text/plain": [
       "sat_score             1223.438806\n",
       "female_per              50.620661\n",
       "AVERAGE CLASS SIZE      24.794077\n",
       "aca_s_11                 7.381389\n",
       "saf_s_11                 6.611667\n",
       "ell_percent             13.334986\n",
       "frl_percent             66.119008\n",
       "Passed AP                0.418363\n",
       "dtype: float64"
      ]
     },
     "execution_count": 31,
     "metadata": {},
     "output_type": "execute_result"
    }
   ],
   "source": [
    "scoring_averages = reduced.mean()\n",
    "scoring_averages"
   ]
  },
  {
   "cell_type": "markdown",
   "metadata": {},
   "source": [
    "We will have to have different criteria for each part of the score. For instance, we can normalize the SAT scores by dividing each score by the 2400 total possible points. For female percentage, we can give a higher score for having a more balanced population, since we saw previously that having a more balanced student population in terms of gender led to higher performance. We can then multiply each column's score by it's correlation to SAT score, sum the score, and find the best overall schools. "
   ]
  },
  {
   "cell_type": "code",
   "execution_count": 32,
   "metadata": {
    "collapsed": false
   },
   "outputs": [
    {
     "name": "stdout",
     "output_type": "stream",
     "text": [
      "sat_score             1.000000\n",
      "female_per            0.112108\n",
      "AVERAGE CLASS SIZE    0.381014\n",
      "aca_s_11              0.339435\n",
      "saf_s_11              0.337639\n",
      "ell_percent          -0.398750\n",
      "frl_percent          -0.722225\n",
      "Passed AP             0.376893\n",
      "sat_score_percent     1.000000\n",
      "Name: sat_score, dtype: float64\n"
     ]
    },
    {
     "name": "stderr",
     "output_type": "stream",
     "text": [
      "/dataquest/system/env/python3/lib/python3.4/site-packages/ipykernel/__main__.py:1: SettingWithCopyWarning: \n",
      "A value is trying to be set on a copy of a slice from a DataFrame.\n",
      "Try using .loc[row_indexer,col_indexer] = value instead\n",
      "\n",
      "See the caveats in the documentation: http://pandas.pydata.org/pandas-docs/stable/indexing.html#indexing-view-versus-copy\n",
      "  if __name__ == '__main__':\n"
     ]
    }
   ],
   "source": [
    "reduced['sat_score_percent'] = reduced['sat_score'] / 2400\n",
    "reduced_corrs = reduced.corr()\n",
    "reduced_corrs_sat = reduced_corrs['sat_score']\n",
    "print(reduced_corrs_sat)"
   ]
  },
  {
   "cell_type": "code",
   "execution_count": 33,
   "metadata": {
    "collapsed": false
   },
   "outputs": [
    {
     "name": "stderr",
     "output_type": "stream",
     "text": [
      "/dataquest/system/env/python3/lib/python3.4/site-packages/ipykernel/__main__.py:5: SettingWithCopyWarning: \n",
      "A value is trying to be set on a copy of a slice from a DataFrame.\n",
      "Try using .loc[row_indexer,col_indexer] = value instead\n",
      "\n",
      "See the caveats in the documentation: http://pandas.pydata.org/pandas-docs/stable/indexing.html#indexing-view-versus-copy\n",
      "/dataquest/system/env/python3/lib/python3.4/site-packages/ipykernel/__main__.py:7: SettingWithCopyWarning: \n",
      "A value is trying to be set on a copy of a slice from a DataFrame.\n",
      "Try using .loc[row_indexer,col_indexer] = value instead\n",
      "\n",
      "See the caveats in the documentation: http://pandas.pydata.org/pandas-docs/stable/indexing.html#indexing-view-versus-copy\n"
     ]
    },
    {
     "data": {
      "text/html": [
       "<div>\n",
       "<style scoped>\n",
       "    .dataframe tbody tr th:only-of-type {\n",
       "        vertical-align: middle;\n",
       "    }\n",
       "\n",
       "    .dataframe tbody tr th {\n",
       "        vertical-align: top;\n",
       "    }\n",
       "\n",
       "    .dataframe thead th {\n",
       "        text-align: right;\n",
       "    }\n",
       "</style>\n",
       "<table border=\"1\" class=\"dataframe\">\n",
       "  <thead>\n",
       "    <tr style=\"text-align: right;\">\n",
       "      <th></th>\n",
       "      <th>DBN</th>\n",
       "      <th>School Name</th>\n",
       "      <th>sat_score</th>\n",
       "      <th>female_per</th>\n",
       "      <th>AVERAGE CLASS SIZE</th>\n",
       "      <th>aca_s_11</th>\n",
       "      <th>saf_s_11</th>\n",
       "      <th>ell_percent</th>\n",
       "      <th>frl_percent</th>\n",
       "      <th>Passed AP</th>\n",
       "      <th>sat_score_percent</th>\n",
       "      <th>female_per_corr</th>\n",
       "      <th>avg_class_size_corr</th>\n",
       "      <th>aca_s_11_corr</th>\n",
       "      <th>saf_s_11_corr</th>\n",
       "      <th>ell_percent_corr</th>\n",
       "      <th>frl_percent_corr</th>\n",
       "      <th>passed_ap_corr</th>\n",
       "      <th>sat_score_percent_corr</th>\n",
       "      <th>sum_score</th>\n",
       "    </tr>\n",
       "  </thead>\n",
       "  <tbody>\n",
       "    <tr>\n",
       "      <th>0</th>\n",
       "      <td>01M292</td>\n",
       "      <td>HENRY STREET SCHOOL FOR INTERNATIONAL</td>\n",
       "      <td>1122.0</td>\n",
       "      <td>38.6</td>\n",
       "      <td>22.564286</td>\n",
       "      <td>6.700000</td>\n",
       "      <td>6.000000</td>\n",
       "      <td>22.3</td>\n",
       "      <td>88.6</td>\n",
       "      <td>0.418363</td>\n",
       "      <td>0.467500</td>\n",
       "      <td>125.784884</td>\n",
       "      <td>14.707153</td>\n",
       "      <td>7.659119</td>\n",
       "      <td>2.262180</td>\n",
       "      <td>-2.392498</td>\n",
       "      <td>-16.105609</td>\n",
       "      <td>33.392759</td>\n",
       "      <td>0.418363</td>\n",
       "      <td>165.775486</td>\n",
       "    </tr>\n",
       "    <tr>\n",
       "      <th>1</th>\n",
       "      <td>01M448</td>\n",
       "      <td>UNIVERSITY NEIGHBORHOOD HIGH SCHOOL</td>\n",
       "      <td>1172.0</td>\n",
       "      <td>42.6</td>\n",
       "      <td>22.231250</td>\n",
       "      <td>7.000000</td>\n",
       "      <td>6.000000</td>\n",
       "      <td>21.1</td>\n",
       "      <td>71.8</td>\n",
       "      <td>0.204082</td>\n",
       "      <td>0.488333</td>\n",
       "      <td>131.390271</td>\n",
       "      <td>16.231210</td>\n",
       "      <td>7.546075</td>\n",
       "      <td>2.363471</td>\n",
       "      <td>-2.392498</td>\n",
       "      <td>-15.238940</td>\n",
       "      <td>27.060949</td>\n",
       "      <td>0.204082</td>\n",
       "      <td>167.448871</td>\n",
       "    </tr>\n",
       "    <tr>\n",
       "      <th>2</th>\n",
       "      <td>01M450</td>\n",
       "      <td>EAST SIDE COMMUNITY SCHOOL</td>\n",
       "      <td>1149.0</td>\n",
       "      <td>45.3</td>\n",
       "      <td>21.200000</td>\n",
       "      <td>7.381389</td>\n",
       "      <td>6.611667</td>\n",
       "      <td>5.0</td>\n",
       "      <td>71.8</td>\n",
       "      <td>0.418363</td>\n",
       "      <td>0.478750</td>\n",
       "      <td>128.811793</td>\n",
       "      <td>17.259949</td>\n",
       "      <td>7.196032</td>\n",
       "      <td>2.492243</td>\n",
       "      <td>-2.636400</td>\n",
       "      <td>-3.611123</td>\n",
       "      <td>27.060949</td>\n",
       "      <td>0.418363</td>\n",
       "      <td>177.052192</td>\n",
       "    </tr>\n",
       "    <tr>\n",
       "      <th>3</th>\n",
       "      <td>01M509</td>\n",
       "      <td>MARTA VALLE HIGH SCHOOL</td>\n",
       "      <td>1207.0</td>\n",
       "      <td>53.7</td>\n",
       "      <td>23.571429</td>\n",
       "      <td>7.000000</td>\n",
       "      <td>6.400000</td>\n",
       "      <td>11.2</td>\n",
       "      <td>80.7</td>\n",
       "      <td>0.418363</td>\n",
       "      <td>0.502917</td>\n",
       "      <td>135.314041</td>\n",
       "      <td>20.460470</td>\n",
       "      <td>8.000979</td>\n",
       "      <td>2.363471</td>\n",
       "      <td>-2.551998</td>\n",
       "      <td>-8.088916</td>\n",
       "      <td>30.415300</td>\n",
       "      <td>0.418363</td>\n",
       "      <td>186.416264</td>\n",
       "    </tr>\n",
       "    <tr>\n",
       "      <th>4</th>\n",
       "      <td>01M539</td>\n",
       "      <td>NEW EXPLORATIONS INTO SCIENCE  TECHNO</td>\n",
       "      <td>1621.0</td>\n",
       "      <td>50.8</td>\n",
       "      <td>25.510526</td>\n",
       "      <td>7.700000</td>\n",
       "      <td>7.300000</td>\n",
       "      <td>0.2</td>\n",
       "      <td>23.0</td>\n",
       "      <td>0.506631</td>\n",
       "      <td>0.675417</td>\n",
       "      <td>181.726646</td>\n",
       "      <td>19.355528</td>\n",
       "      <td>8.659178</td>\n",
       "      <td>2.599818</td>\n",
       "      <td>-2.910873</td>\n",
       "      <td>-0.144445</td>\n",
       "      <td>8.668549</td>\n",
       "      <td>0.506631</td>\n",
       "      <td>218.629817</td>\n",
       "    </tr>\n",
       "  </tbody>\n",
       "</table>\n",
       "</div>"
      ],
      "text/plain": [
       "      DBN                            School Name  sat_score  female_per  \\\n",
       "0  01M292  HENRY STREET SCHOOL FOR INTERNATIONAL     1122.0        38.6   \n",
       "1  01M448    UNIVERSITY NEIGHBORHOOD HIGH SCHOOL     1172.0        42.6   \n",
       "2  01M450             EAST SIDE COMMUNITY SCHOOL     1149.0        45.3   \n",
       "3  01M509                MARTA VALLE HIGH SCHOOL     1207.0        53.7   \n",
       "4  01M539  NEW EXPLORATIONS INTO SCIENCE  TECHNO     1621.0        50.8   \n",
       "\n",
       "   AVERAGE CLASS SIZE  aca_s_11  saf_s_11  ell_percent  frl_percent  \\\n",
       "0           22.564286  6.700000  6.000000         22.3         88.6   \n",
       "1           22.231250  7.000000  6.000000         21.1         71.8   \n",
       "2           21.200000  7.381389  6.611667          5.0         71.8   \n",
       "3           23.571429  7.000000  6.400000         11.2         80.7   \n",
       "4           25.510526  7.700000  7.300000          0.2         23.0   \n",
       "\n",
       "   Passed AP  sat_score_percent  female_per_corr  avg_class_size_corr  \\\n",
       "0   0.418363           0.467500       125.784884            14.707153   \n",
       "1   0.204082           0.488333       131.390271            16.231210   \n",
       "2   0.418363           0.478750       128.811793            17.259949   \n",
       "3   0.418363           0.502917       135.314041            20.460470   \n",
       "4   0.506631           0.675417       181.726646            19.355528   \n",
       "\n",
       "   aca_s_11_corr  saf_s_11_corr  ell_percent_corr  frl_percent_corr  \\\n",
       "0       7.659119       2.262180         -2.392498        -16.105609   \n",
       "1       7.546075       2.363471         -2.392498        -15.238940   \n",
       "2       7.196032       2.492243         -2.636400         -3.611123   \n",
       "3       8.000979       2.363471         -2.551998         -8.088916   \n",
       "4       8.659178       2.599818         -2.910873         -0.144445   \n",
       "\n",
       "   passed_ap_corr  sat_score_percent_corr   sum_score  \n",
       "0       33.392759                0.418363  165.775486  \n",
       "1       27.060949                0.204082  167.448871  \n",
       "2       27.060949                0.418363  177.052192  \n",
       "3       30.415300                0.418363  186.416264  \n",
       "4        8.668549                0.506631  218.629817  "
      ]
     },
     "execution_count": 33,
     "metadata": {},
     "output_type": "execute_result"
    }
   ],
   "source": [
    "corr_scores = ['female_per_corr', 'avg_class_size_corr', 'aca_s_11_corr', 'saf_s_11_corr', 'ell_percent_corr', 'frl_percent_corr', 'passed_ap_corr', 'sat_score_percent_corr']\n",
    "cols = reduced.columns\n",
    "j = 2\n",
    "for i in corr_scores:\n",
    "    reduced[i] = reduced[cols[j]] * reduced_corrs_sat[j-1]\n",
    "    j+=1\n",
    "reduced['sum_score']= reduced.iloc[:, 10:-1].sum(axis=1)\n",
    "reduced.head()"
   ]
  },
  {
   "cell_type": "code",
   "execution_count": 35,
   "metadata": {
    "collapsed": false
   },
   "outputs": [
    {
     "data": {
      "text/html": [
       "<div>\n",
       "<style scoped>\n",
       "    .dataframe tbody tr th:only-of-type {\n",
       "        vertical-align: middle;\n",
       "    }\n",
       "\n",
       "    .dataframe tbody tr th {\n",
       "        vertical-align: top;\n",
       "    }\n",
       "\n",
       "    .dataframe thead th {\n",
       "        text-align: right;\n",
       "    }\n",
       "</style>\n",
       "<table border=\"1\" class=\"dataframe\">\n",
       "  <thead>\n",
       "    <tr style=\"text-align: right;\">\n",
       "      <th></th>\n",
       "      <th>School Name</th>\n",
       "      <th>sat_score</th>\n",
       "      <th>sum_score</th>\n",
       "    </tr>\n",
       "  </thead>\n",
       "  <tbody>\n",
       "    <tr>\n",
       "      <th>37</th>\n",
       "      <td>STUYVESANT HIGH SCHOOL</td>\n",
       "      <td>2096.000000</td>\n",
       "      <td>273.016835</td>\n",
       "    </tr>\n",
       "    <tr>\n",
       "      <th>302</th>\n",
       "      <td>TOWNSEND HARRIS HIGH SCHOOL</td>\n",
       "      <td>1910.000000</td>\n",
       "      <td>262.608323</td>\n",
       "    </tr>\n",
       "    <tr>\n",
       "      <th>151</th>\n",
       "      <td>BRONX HIGH SCHOOL OF SCIENCE</td>\n",
       "      <td>1969.000000</td>\n",
       "      <td>260.889331</td>\n",
       "    </tr>\n",
       "    <tr>\n",
       "      <th>356</th>\n",
       "      <td>STATEN ISLAND TECHNICAL HIGH SCHOOL</td>\n",
       "      <td>1953.000000</td>\n",
       "      <td>252.122225</td>\n",
       "    </tr>\n",
       "    <tr>\n",
       "      <th>187</th>\n",
       "      <td>BROOKLYN TECHNICAL HIGH SCHOOL</td>\n",
       "      <td>1833.000000</td>\n",
       "      <td>251.972190</td>\n",
       "    </tr>\n",
       "    <tr>\n",
       "      <th>155</th>\n",
       "      <td>HIGH SCHOOL OF AMERICAN STUDIES AT LE</td>\n",
       "      <td>1920.000000</td>\n",
       "      <td>248.694820</td>\n",
       "    </tr>\n",
       "    <tr>\n",
       "      <th>5</th>\n",
       "      <td>BARD HIGH SCHOOL EARLY COLLEGE</td>\n",
       "      <td>1856.000000</td>\n",
       "      <td>248.475640</td>\n",
       "    </tr>\n",
       "    <tr>\n",
       "      <th>327</th>\n",
       "      <td>QUEENS HIGH SCHOOL FOR THE SCIENCES A</td>\n",
       "      <td>1868.000000</td>\n",
       "      <td>244.897674</td>\n",
       "    </tr>\n",
       "    <tr>\n",
       "      <th>198</th>\n",
       "      <td>BROOKLYN LATIN SCHOOL  THE</td>\n",
       "      <td>1740.000000</td>\n",
       "      <td>240.449027</td>\n",
       "    </tr>\n",
       "    <tr>\n",
       "      <th>61</th>\n",
       "      <td>FIORELLO H. LAGUARDIA HIGH SCHOOL OF</td>\n",
       "      <td>1707.000000</td>\n",
       "      <td>238.517342</td>\n",
       "    </tr>\n",
       "    <tr>\n",
       "      <th>26</th>\n",
       "      <td>ELEANOR ROOSEVELT HIGH SCHOOL</td>\n",
       "      <td>1758.000000</td>\n",
       "      <td>238.197456</td>\n",
       "    </tr>\n",
       "    <tr>\n",
       "      <th>60</th>\n",
       "      <td>BEACON HIGH SCHOOL</td>\n",
       "      <td>1744.000000</td>\n",
       "      <td>236.382178</td>\n",
       "    </tr>\n",
       "    <tr>\n",
       "      <th>79</th>\n",
       "      <td>HIGH SCHOOL FOR MATHEMATICS  SCIENCE</td>\n",
       "      <td>1847.000000</td>\n",
       "      <td>234.853572</td>\n",
       "    </tr>\n",
       "    <tr>\n",
       "      <th>287</th>\n",
       "      <td>BARD HIGH SCHOOL EARLY COLLEGE II</td>\n",
       "      <td>1663.000000</td>\n",
       "      <td>231.447984</td>\n",
       "    </tr>\n",
       "    <tr>\n",
       "      <th>27</th>\n",
       "      <td>MILLENNIUM HIGH SCHOOL</td>\n",
       "      <td>1614.000000</td>\n",
       "      <td>226.933280</td>\n",
       "    </tr>\n",
       "    <tr>\n",
       "      <th>325</th>\n",
       "      <td>QUEENS GATEWAY TO HEALTH SCIENCES SEC</td>\n",
       "      <td>1538.000000</td>\n",
       "      <td>226.792627</td>\n",
       "    </tr>\n",
       "    <tr>\n",
       "      <th>23</th>\n",
       "      <td>BARUCH COLLEGE CAMPUS HIGH SCHOOL</td>\n",
       "      <td>1577.000000</td>\n",
       "      <td>226.753880</td>\n",
       "    </tr>\n",
       "    <tr>\n",
       "      <th>24</th>\n",
       "      <td>N.Y.C. LAB SCHOOL FOR COLLABORATIVE S</td>\n",
       "      <td>1677.000000</td>\n",
       "      <td>226.546005</td>\n",
       "    </tr>\n",
       "    <tr>\n",
       "      <th>278</th>\n",
       "      <td>LEON M. GOLDSTEIN HIGH SCHOOL FOR THE</td>\n",
       "      <td>1627.000000</td>\n",
       "      <td>226.305376</td>\n",
       "    </tr>\n",
       "    <tr>\n",
       "      <th>346</th>\n",
       "      <td>BACCALAUREATE SCHOOL FOR GLOBAL EDUCA</td>\n",
       "      <td>1636.000000</td>\n",
       "      <td>223.852039</td>\n",
       "    </tr>\n",
       "    <tr>\n",
       "      <th>70</th>\n",
       "      <td>YOUNG WOMEN'S LEADERSHIP SCHOOL</td>\n",
       "      <td>1326.000000</td>\n",
       "      <td>219.624093</td>\n",
       "    </tr>\n",
       "    <tr>\n",
       "      <th>71</th>\n",
       "      <td>YOUNG WOMEN'S LEADERSHIP SCHOOL</td>\n",
       "      <td>1326.000000</td>\n",
       "      <td>219.624093</td>\n",
       "    </tr>\n",
       "    <tr>\n",
       "      <th>4</th>\n",
       "      <td>NEW EXPLORATIONS INTO SCIENCE  TECHNO</td>\n",
       "      <td>1621.000000</td>\n",
       "      <td>218.629817</td>\n",
       "    </tr>\n",
       "    <tr>\n",
       "      <th>67</th>\n",
       "      <td>MANHATTAN CENTER FOR SCIENCE AND MATH</td>\n",
       "      <td>1430.000000</td>\n",
       "      <td>216.712212</td>\n",
       "    </tr>\n",
       "    <tr>\n",
       "      <th>22</th>\n",
       "      <td>PROFESSIONAL PERFORMING ARTS HIGH SCH</td>\n",
       "      <td>1522.000000</td>\n",
       "      <td>216.563994</td>\n",
       "    </tr>\n",
       "    <tr>\n",
       "      <th>314</th>\n",
       "      <td>0</td>\n",
       "      <td>1532.000000</td>\n",
       "      <td>215.749481</td>\n",
       "    </tr>\n",
       "    <tr>\n",
       "      <th>235</th>\n",
       "      <td>MEDGAR EVERS COLLEGE PREPARATORY SCHO</td>\n",
       "      <td>1436.000000</td>\n",
       "      <td>215.586805</td>\n",
       "    </tr>\n",
       "    <tr>\n",
       "      <th>342</th>\n",
       "      <td>FRANK SINATRA SCHOOL OF THE ARTS HIGH SCHOOL</td>\n",
       "      <td>1494.000000</td>\n",
       "      <td>214.973426</td>\n",
       "    </tr>\n",
       "    <tr>\n",
       "      <th>40</th>\n",
       "      <td>TALENT UNLIMITED HIGH SCHOOL</td>\n",
       "      <td>1416.000000</td>\n",
       "      <td>214.801941</td>\n",
       "    </tr>\n",
       "    <tr>\n",
       "      <th>329</th>\n",
       "      <td>0</td>\n",
       "      <td>1316.000000</td>\n",
       "      <td>213.095235</td>\n",
       "    </tr>\n",
       "    <tr>\n",
       "      <th>...</th>\n",
       "      <td>...</td>\n",
       "      <td>...</td>\n",
       "      <td>...</td>\n",
       "    </tr>\n",
       "    <tr>\n",
       "      <th>229</th>\n",
       "      <td>HIGH SCHOOL FOR YOUTH AND COMMUNITY D</td>\n",
       "      <td>1027.000000</td>\n",
       "      <td>154.490706</td>\n",
       "    </tr>\n",
       "    <tr>\n",
       "      <th>182</th>\n",
       "      <td>MONROE ACADEMY FOR VISUAL ARTS &amp; DESI</td>\n",
       "      <td>1038.000000</td>\n",
       "      <td>154.257984</td>\n",
       "    </tr>\n",
       "    <tr>\n",
       "      <th>249</th>\n",
       "      <td>FDNY HIGH SCHOOL FOR FIRE AND LIFE SA</td>\n",
       "      <td>1023.000000</td>\n",
       "      <td>153.550477</td>\n",
       "    </tr>\n",
       "    <tr>\n",
       "      <th>106</th>\n",
       "      <td>PABLO NERUDA ACADEMY FOR ARCHITECTURE</td>\n",
       "      <td>1038.000000</td>\n",
       "      <td>153.370365</td>\n",
       "    </tr>\n",
       "    <tr>\n",
       "      <th>86</th>\n",
       "      <td>HIGH SCHOOL FOR LAW AND PUBLIC SERVIC</td>\n",
       "      <td>1102.000000</td>\n",
       "      <td>152.370701</td>\n",
       "    </tr>\n",
       "    <tr>\n",
       "      <th>84</th>\n",
       "      <td>HIGH SCHOOL FOR INTERNATIONAL BUSINES</td>\n",
       "      <td>1127.000000</td>\n",
       "      <td>151.646576</td>\n",
       "    </tr>\n",
       "    <tr>\n",
       "      <th>170</th>\n",
       "      <td>BRONX AEROSPACE HIGH SCHOOL</td>\n",
       "      <td>1163.000000</td>\n",
       "      <td>151.082489</td>\n",
       "    </tr>\n",
       "    <tr>\n",
       "      <th>237</th>\n",
       "      <td>IT TAKES A VILLAGE ACADEMY</td>\n",
       "      <td>963.000000</td>\n",
       "      <td>141.806583</td>\n",
       "    </tr>\n",
       "    <tr>\n",
       "      <th>36</th>\n",
       "      <td>MANHATTAN INTERNATIONAL HIGH SCHOOL</td>\n",
       "      <td>1227.000000</td>\n",
       "      <td>140.083176</td>\n",
       "    </tr>\n",
       "    <tr>\n",
       "      <th>111</th>\n",
       "      <td>0</td>\n",
       "      <td>1223.438806</td>\n",
       "      <td>137.483871</td>\n",
       "    </tr>\n",
       "    <tr>\n",
       "      <th>31</th>\n",
       "      <td>0</td>\n",
       "      <td>1223.438806</td>\n",
       "      <td>136.145747</td>\n",
       "    </tr>\n",
       "    <tr>\n",
       "      <th>44</th>\n",
       "      <td>MANHATTAN BRIDGES HIGH SCHOOL</td>\n",
       "      <td>1058.000000</td>\n",
       "      <td>124.234752</td>\n",
       "    </tr>\n",
       "    <tr>\n",
       "      <th>33</th>\n",
       "      <td>0</td>\n",
       "      <td>1223.438806</td>\n",
       "      <td>122.831846</td>\n",
       "    </tr>\n",
       "    <tr>\n",
       "      <th>291</th>\n",
       "      <td>INTERNATIONAL HIGH SCHOOL AT LAGUARDI</td>\n",
       "      <td>1064.000000</td>\n",
       "      <td>118.797989</td>\n",
       "    </tr>\n",
       "    <tr>\n",
       "      <th>344</th>\n",
       "      <td>NEWCOMERS HIGH SCHOOL</td>\n",
       "      <td>1127.000000</td>\n",
       "      <td>118.602833</td>\n",
       "    </tr>\n",
       "    <tr>\n",
       "      <th>166</th>\n",
       "      <td>NEW WORLD HIGH SCHOOL</td>\n",
       "      <td>1048.000000</td>\n",
       "      <td>116.330523</td>\n",
       "    </tr>\n",
       "    <tr>\n",
       "      <th>89</th>\n",
       "      <td>GREGORIO LUPERON HIGH SCHOOL FOR SCIE</td>\n",
       "      <td>1014.000000</td>\n",
       "      <td>111.995514</td>\n",
       "    </tr>\n",
       "    <tr>\n",
       "      <th>297</th>\n",
       "      <td>FLUSHING INTERNATIONAL HIGH SCHOOL</td>\n",
       "      <td>1049.000000</td>\n",
       "      <td>108.111142</td>\n",
       "    </tr>\n",
       "    <tr>\n",
       "      <th>139</th>\n",
       "      <td>KINGSBRIDGE INTERNATIONAL HIGH SCHOOL</td>\n",
       "      <td>962.000000</td>\n",
       "      <td>108.008245</td>\n",
       "    </tr>\n",
       "    <tr>\n",
       "      <th>188</th>\n",
       "      <td>BROOKLYN INTERNATIONAL HIGH SCHOOL</td>\n",
       "      <td>981.000000</td>\n",
       "      <td>106.456666</td>\n",
       "    </tr>\n",
       "    <tr>\n",
       "      <th>141</th>\n",
       "      <td>INTERNATIONAL SCHOOL FOR LIBERAL ARTS</td>\n",
       "      <td>934.000000</td>\n",
       "      <td>104.036058</td>\n",
       "    </tr>\n",
       "    <tr>\n",
       "      <th>125</th>\n",
       "      <td>0</td>\n",
       "      <td>951.000000</td>\n",
       "      <td>103.932423</td>\n",
       "    </tr>\n",
       "    <tr>\n",
       "      <th>176</th>\n",
       "      <td>0</td>\n",
       "      <td>970.000000</td>\n",
       "      <td>103.426407</td>\n",
       "    </tr>\n",
       "    <tr>\n",
       "      <th>179</th>\n",
       "      <td>HIGH SCHOOL OF WORLD CULTURES</td>\n",
       "      <td>939.000000</td>\n",
       "      <td>103.082365</td>\n",
       "    </tr>\n",
       "    <tr>\n",
       "      <th>126</th>\n",
       "      <td>BRONX INTERNATIONAL HIGH SCHOOL</td>\n",
       "      <td>965.000000</td>\n",
       "      <td>102.461466</td>\n",
       "    </tr>\n",
       "    <tr>\n",
       "      <th>265</th>\n",
       "      <td>INTERNATIONAL HIGH SCHOOL AT LAFAYETTE</td>\n",
       "      <td>1026.000000</td>\n",
       "      <td>99.945665</td>\n",
       "    </tr>\n",
       "    <tr>\n",
       "      <th>286</th>\n",
       "      <td>PAN AMERICAN INTERNATIONAL HIGH SCHOO</td>\n",
       "      <td>951.000000</td>\n",
       "      <td>96.822417</td>\n",
       "    </tr>\n",
       "    <tr>\n",
       "      <th>91</th>\n",
       "      <td>INTERNATIONAL COMMUNITY HIGH SCHOOL</td>\n",
       "      <td>945.000000</td>\n",
       "      <td>95.176774</td>\n",
       "    </tr>\n",
       "    <tr>\n",
       "      <th>225</th>\n",
       "      <td>INTERNATIONAL HIGH SCHOOL AT PROSPECT</td>\n",
       "      <td>913.000000</td>\n",
       "      <td>90.811530</td>\n",
       "    </tr>\n",
       "    <tr>\n",
       "      <th>253</th>\n",
       "      <td>MULTICULTURAL HIGH SCHOOL</td>\n",
       "      <td>887.000000</td>\n",
       "      <td>86.026392</td>\n",
       "    </tr>\n",
       "  </tbody>\n",
       "</table>\n",
       "<p>363 rows × 3 columns</p>\n",
       "</div>"
      ],
      "text/plain": [
       "                                      School Name    sat_score   sum_score\n",
       "37                         STUYVESANT HIGH SCHOOL  2096.000000  273.016835\n",
       "302                   TOWNSEND HARRIS HIGH SCHOOL  1910.000000  262.608323\n",
       "151                  BRONX HIGH SCHOOL OF SCIENCE  1969.000000  260.889331\n",
       "356           STATEN ISLAND TECHNICAL HIGH SCHOOL  1953.000000  252.122225\n",
       "187                BROOKLYN TECHNICAL HIGH SCHOOL  1833.000000  251.972190\n",
       "155         HIGH SCHOOL OF AMERICAN STUDIES AT LE  1920.000000  248.694820\n",
       "5                  BARD HIGH SCHOOL EARLY COLLEGE  1856.000000  248.475640\n",
       "327         QUEENS HIGH SCHOOL FOR THE SCIENCES A  1868.000000  244.897674\n",
       "198                    BROOKLYN LATIN SCHOOL  THE  1740.000000  240.449027\n",
       "61           FIORELLO H. LAGUARDIA HIGH SCHOOL OF  1707.000000  238.517342\n",
       "26                  ELEANOR ROOSEVELT HIGH SCHOOL  1758.000000  238.197456\n",
       "60                             BEACON HIGH SCHOOL  1744.000000  236.382178\n",
       "79           HIGH SCHOOL FOR MATHEMATICS  SCIENCE  1847.000000  234.853572\n",
       "287             BARD HIGH SCHOOL EARLY COLLEGE II  1663.000000  231.447984\n",
       "27                         MILLENNIUM HIGH SCHOOL  1614.000000  226.933280\n",
       "325         QUEENS GATEWAY TO HEALTH SCIENCES SEC  1538.000000  226.792627\n",
       "23              BARUCH COLLEGE CAMPUS HIGH SCHOOL  1577.000000  226.753880\n",
       "24          N.Y.C. LAB SCHOOL FOR COLLABORATIVE S  1677.000000  226.546005\n",
       "278         LEON M. GOLDSTEIN HIGH SCHOOL FOR THE  1627.000000  226.305376\n",
       "346         BACCALAUREATE SCHOOL FOR GLOBAL EDUCA  1636.000000  223.852039\n",
       "70                YOUNG WOMEN'S LEADERSHIP SCHOOL  1326.000000  219.624093\n",
       "71                YOUNG WOMEN'S LEADERSHIP SCHOOL  1326.000000  219.624093\n",
       "4           NEW EXPLORATIONS INTO SCIENCE  TECHNO  1621.000000  218.629817\n",
       "67          MANHATTAN CENTER FOR SCIENCE AND MATH  1430.000000  216.712212\n",
       "22          PROFESSIONAL PERFORMING ARTS HIGH SCH  1522.000000  216.563994\n",
       "314                                             0  1532.000000  215.749481\n",
       "235         MEDGAR EVERS COLLEGE PREPARATORY SCHO  1436.000000  215.586805\n",
       "342  FRANK SINATRA SCHOOL OF THE ARTS HIGH SCHOOL  1494.000000  214.973426\n",
       "40                   TALENT UNLIMITED HIGH SCHOOL  1416.000000  214.801941\n",
       "329                                             0  1316.000000  213.095235\n",
       "..                                            ...          ...         ...\n",
       "229         HIGH SCHOOL FOR YOUTH AND COMMUNITY D  1027.000000  154.490706\n",
       "182         MONROE ACADEMY FOR VISUAL ARTS & DESI  1038.000000  154.257984\n",
       "249         FDNY HIGH SCHOOL FOR FIRE AND LIFE SA  1023.000000  153.550477\n",
       "106         PABLO NERUDA ACADEMY FOR ARCHITECTURE  1038.000000  153.370365\n",
       "86          HIGH SCHOOL FOR LAW AND PUBLIC SERVIC  1102.000000  152.370701\n",
       "84          HIGH SCHOOL FOR INTERNATIONAL BUSINES  1127.000000  151.646576\n",
       "170                   BRONX AEROSPACE HIGH SCHOOL  1163.000000  151.082489\n",
       "237                    IT TAKES A VILLAGE ACADEMY   963.000000  141.806583\n",
       "36            MANHATTAN INTERNATIONAL HIGH SCHOOL  1227.000000  140.083176\n",
       "111                                             0  1223.438806  137.483871\n",
       "31                                              0  1223.438806  136.145747\n",
       "44                  MANHATTAN BRIDGES HIGH SCHOOL  1058.000000  124.234752\n",
       "33                                              0  1223.438806  122.831846\n",
       "291         INTERNATIONAL HIGH SCHOOL AT LAGUARDI  1064.000000  118.797989\n",
       "344                         NEWCOMERS HIGH SCHOOL  1127.000000  118.602833\n",
       "166                         NEW WORLD HIGH SCHOOL  1048.000000  116.330523\n",
       "89          GREGORIO LUPERON HIGH SCHOOL FOR SCIE  1014.000000  111.995514\n",
       "297            FLUSHING INTERNATIONAL HIGH SCHOOL  1049.000000  108.111142\n",
       "139         KINGSBRIDGE INTERNATIONAL HIGH SCHOOL   962.000000  108.008245\n",
       "188            BROOKLYN INTERNATIONAL HIGH SCHOOL   981.000000  106.456666\n",
       "141         INTERNATIONAL SCHOOL FOR LIBERAL ARTS   934.000000  104.036058\n",
       "125                                             0   951.000000  103.932423\n",
       "176                                             0   970.000000  103.426407\n",
       "179                 HIGH SCHOOL OF WORLD CULTURES   939.000000  103.082365\n",
       "126               BRONX INTERNATIONAL HIGH SCHOOL   965.000000  102.461466\n",
       "265        INTERNATIONAL HIGH SCHOOL AT LAFAYETTE  1026.000000   99.945665\n",
       "286         PAN AMERICAN INTERNATIONAL HIGH SCHOO   951.000000   96.822417\n",
       "91            INTERNATIONAL COMMUNITY HIGH SCHOOL   945.000000   95.176774\n",
       "225         INTERNATIONAL HIGH SCHOOL AT PROSPECT   913.000000   90.811530\n",
       "253                     MULTICULTURAL HIGH SCHOOL   887.000000   86.026392\n",
       "\n",
       "[363 rows x 3 columns]"
      ]
     },
     "execution_count": 35,
     "metadata": {},
     "output_type": "execute_result"
    }
   ],
   "source": [
    "scores = reduced[['School Name', 'sat_score', 'sum_score']]\n",
    "scores.sort_values('sum_score', ascending=False)"
   ]
  },
  {
   "cell_type": "markdown",
   "metadata": {},
   "source": [
    "These rankings are pretty in line with SAT scores, and we may be putting too much weight on SAT scores. More analysis is required, but for now this seems like a good ranking of public schools in New York City. According to Niche.com, our top 5 ranking is pretty much spot on. \n",
    "\n",
    "[Stuyvesant High School: ranked 1 in New York Public Schools](https://www.niche.com/k12/stuyvesant-high-school-new-york-ny/)\n",
    "\n",
    "[Townsend Harris High School: ranked 3 in New York Public Schools](https://www.niche.com/k12/townsend-harris-high-school-flushing-ny/)\n",
    "\n",
    "[Bronx High School of Science: ranked 4 in New York Public Schools](https://www.niche.com/k12/bronx-high-school-of-science-bronx-ny/)\n",
    "\n",
    "[Staten Island Technical High School: ranked 2 in New York Public Schools](https://www.niche.com/k12/staten-island-technical-high-school-staten-island-ny/)\n",
    "\n",
    "[Brooklyn Technical High School: ranked 2 in Standout New York High Schools](https://www.niche.com/k12/brooklyn-technical-high-school-brooklyn-ny/)"
   ]
  },
  {
   "cell_type": "markdown",
   "metadata": {
    "collapsed": true
   },
   "source": [
    "### Data Sources \n",
    "\n",
    "\n",
    "[SAT scores](https://data.cityofnewyork.us/Education/2012-SAT-Results/f9bf-2cp4)\n",
    "\n",
    "\n",
    "[School Attendance](https://data.cityofnewyork.us/Education/2010-2011-School-Attendance-and-Enrollment-Statist/7z8d-msnt)\n",
    "\n",
    "\n",
    "[Class size](https://data.cityofnewyork.us/Education/2010-2011-Class-Size-School-level-detail/urz7-pzb3)\n",
    "\n",
    "\n",
    "[AP test results](https://data.cityofnewyork.us/Education/2010-AP-College-Board-School-Level-Results/itfs-ms3e)\n",
    "\n",
    "\n",
    "[Graduation outcomes](https://data.cityofnewyork.us/Education/2005-2010-Graduation-Outcomes-School-Level/vh2h-md7a)\n",
    "\n",
    "\n",
    "[Demographics](https://data.cityofnewyork.us/Education/2006-2012-School-Demographics-and-Accountability-S/ihfw-zy9j)\n",
    "\n",
    "\n",
    "[School Surveys](https://data.cityofnewyork.us/Education/2011-NYC-School-Survey/mnz3-dyi8)"
   ]
  },
  {
   "cell_type": "markdown",
   "metadata": {},
   "source": [
    "Next steps:\n",
    "\n",
    "- determine if the scoring system relies too heavily on SAT score and how it can be improved \n",
    "- figuring out which neighborhoods have the best schools\n",
    "    - if we combine this information with a dataset containing property values, we could find the least expensive neighborhoods that have good school\n",
    "- more analysis on survey data"
   ]
  },
  {
   "cell_type": "code",
   "execution_count": null,
   "metadata": {
    "collapsed": true
   },
   "outputs": [],
   "source": []
  }
 ],
 "metadata": {
  "kernelspec": {
   "display_name": "Python 3",
   "language": "python",
   "name": "python3"
  },
  "language_info": {
   "codemirror_mode": {
    "name": "ipython",
    "version": 3
   },
   "file_extension": ".py",
   "mimetype": "text/x-python",
   "name": "python",
   "nbconvert_exporter": "python",
   "pygments_lexer": "ipython3",
   "version": "3.4.3"
  }
 },
 "nbformat": 4,
 "nbformat_minor": 2
}
